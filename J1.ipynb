{
 "cells": [
  {
   "cell_type": "code",
   "execution_count": 34,
   "metadata": {},
   "outputs": [],
   "source": [
    "from scipy.io import wavfile; import numpy\n",
    "import matplotlib.pyplot as plt\n",
    "import scipy"
   ]
  },
  {
   "cell_type": "code",
   "execution_count": null,
   "metadata": {},
   "outputs": [],
   "source": [
    "curl  https://losc.ligo.org/s/events/GW150914/P150914/fig1-observed-L.txt > fig1-observed-L.tx"
   ]
  },
  {
   "cell_type": "code",
   "execution_count": 5,
   "metadata": {},
   "outputs": [
    {
     "name": "stdout",
     "output_type": "stream",
     "text": [
      "/Users/Kit/pycoursework/J1\n"
     ]
    }
   ],
   "source": [
    "cd /Users/Kit/pycoursework/J1"
   ]
  },
  {
   "cell_type": "code",
   "execution_count": 6,
   "metadata": {},
   "outputs": [],
   "source": [
    "# pure tone\n",
    "freq = 261.6 # Hz (Middle C)\n",
    "duration = 5 # s\n",
    "sampling_rate = 44100 # audio is typically encoded at 44.1 kHz\n",
    "t = numpy.linspace(0, duration, sampling_rate * duration)\n",
    "data_default = numpy.cos(2 * numpy.pi * t * freq)\n",
    "data = numpy.int32(2**31*data_default) # audio is typically stored in 4 or fewer bytes\n",
    "wavfile.write(\"pure_tone.wav\", sampling_rate , data)"
   ]
  },
  {
   "cell_type": "code",
   "execution_count": 10,
   "metadata": {},
   "outputs": [
    {
     "name": "stderr",
     "output_type": "stream",
     "text": [
      "/Library/Frameworks/Python.framework/Versions/3.6/lib/python3.6/site-packages/ipykernel_launcher.py:4: DeprecationWarning: object of type <class 'float'> cannot be safely interpreted as an integer.\n",
      "  after removing the cwd from sys.path.\n"
     ]
    }
   ],
   "source": [
    "freq = 1000. \n",
    "duration = 1. \n",
    "sampling_rate = 44100 \n",
    "t = numpy.linspace(0, duration, sampling_rate * duration)\n",
    "data_default = numpy.cos(2 * numpy.pi * t * freq)\n",
    "data = numpy.int32(2**31*data_default) # audio is typically stored in 4 or fewer bytes\n",
    "wavfile.write(\"pure_tone1000.wav\", sampling_rate , data)"
   ]
  },
  {
   "cell_type": "code",
   "execution_count": 20,
   "metadata": {},
   "outputs": [
    {
     "data": {
      "image/png": "[encoded data removed]",
      "text/plain": [
       "<matplotlib.figure.Figure at 0x108a80080>"
      ]
     },
     "metadata": {},
     "output_type": "display_data"
    }
   ],
   "source": [
    "t, _, tmplt = numpy.loadtxt(\"fig2-unfiltered-template-reconstruction-H.txt\", unpack=True)\n",
    "plt.plot(t,tmplt)\n",
    "plt.show()"
   ]
  },
  {
   "cell_type": "code",
   "execution_count": 29,
   "metadata": {},
   "outputs": [],
   "source": [
    "sampling_rate = 16384\n",
    "tmplt //= tmplt.max()\n",
    "tmplt *= int(2**31 * 90./100)\n",
    "tmplt = tmplt.astype(numpy.int32)"
   ]
  },
  {
   "cell_type": "code",
   "execution_count": 30,
   "metadata": {},
   "outputs": [],
   "source": [
    "wavfile.write(\"ligo.wav\", sampling_rate ,tmplt)"
   ]
  },
  {
   "cell_type": "code",
   "execution_count": 31,
   "metadata": {},
   "outputs": [],
   "source": [
    "def bessel(n,x):\n",
    " if n == 0: return scipy.special.jn(0,x)\n",
    " if n == 1: return scipy.special.jn(1,x)\n",
    " return (2*(n-1)/x) * bessel(n-1, x) - bessel(n-2, x)"
   ]
  },
  {
   "cell_type": "code",
   "execution_count": 35,
   "metadata": {},
   "outputs": [
    {
     "data": {
      "text/plain": [
       "0.00024975773021324033"
      ]
     },
     "execution_count": 35,
     "metadata": {},
     "output_type": "execute_result"
    }
   ],
   "source": [
    "bessel(5,1)"
   ]
  },
  {
   "cell_type": "code",
   "execution_count": null,
   "metadata": {},
   "outputs": [],
   "source": [
    "0.000249757730213, tenth\n",
    "0.000249757730213, last"
   ]
  },
  {
   "cell_type": "code",
   "execution_count": 37,
   "metadata": {},
   "outputs": [
    {
     "data": {
      "text/plain": [
       "0.00024975773021123466"
      ]
     },
     "execution_count": 37,
     "metadata": {},
     "output_type": "execute_result"
    }
   ],
   "source": [
    "scipy.special.jn(5,1)"
   ]
  },
  {
   "cell_type": "code",
   "execution_count": null,
   "metadata": {},
   "outputs": [],
   "source": []
  }
 ],
 "metadata": {
  "kernelspec": {
   "display_name": "Python 3",
   "language": "python",
   "name": "python3"
  },
  "language_info": {
   "codemirror_mode": {
    "name": "ipython",
    "version": 3
   },
   "file_extension": ".py",
   "mimetype": "text/x-python",
   "name": "python",
   "nbconvert_exporter": "python",
   "pygments_lexer": "ipython3",
   "version": "3.6.2"
  }
 },
 "nbformat": 4,
 "nbformat_minor": 2
}
