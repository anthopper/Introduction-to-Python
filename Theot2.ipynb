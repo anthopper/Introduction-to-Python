{
 "cells": [
  {
   "cell_type": "code",
   "execution_count": 5,
   "metadata": {},
   "outputs": [],
   "source": [
    "import math\n",
    "import matplotlib.pyplot as plt\n",
    "%matplotlib inline"
   ]
  },
  {
   "cell_type": "code",
   "execution_count": 2,
   "metadata": {},
   "outputs": [],
   "source": [
    "# set constants\n",
    "R = 6371.0\n",
    "# assume average P velocity\n",
    "vp = 11.\n",
    "# rpd is radians per degree\n",
    "rpd = math.pi/180.\n",
    "# kpd is km per degree\n",
    "kpd = R*rpd\n",
    "# set earthquake origin time:\n",
    "Oh=4\n",
    "Om=49\n",
    "Os=20\n",
    "\n",
    "# initialize lists:\n",
    "distances = []\n",
    "t0s=[]\n",
    "# opens the date file ptimescopies, which has the header deleted all but P #and np columns\n",
    "ptm = open('Ptimescopies.txt','r')"
   ]
  },
  {
   "cell_type": "code",
   "execution_count": 3,
   "metadata": {},
   "outputs": [],
   "source": [
    "for line in ptm:\n",
    " fields = line.split() \n",
    "# splits lines into fields and fields into the distances\n",
    " distances = distances + [float(fields[4])]\n",
    "# the 8th column is time\n",
    " time = fields[7].split('Z')[0].split('T')[1].split(':')\n",
    "# subtract origin time to obtain travel time:\n",
    " seconds = 3600*(float(time[0])-Oh)+60*(float(time[1])-Om)+float(time[2])-Os\n",
    " t0s = t0s + [seconds]"
   ]
  },
  {
   "cell_type": "code",
   "execution_count": 13,
   "metadata": {},
   "outputs": [
    {
     "data": {
      "image/png": "[encoded data removed]",
      "text/plain": [
       "<matplotlib.figure.Figure at 0x106e142e8>"
      ]
     },
     "metadata": {},
     "output_type": "display_data"
    }
   ],
   "source": [
    "for d in distances:\n",
    "   b = d*kpd\n",
    "# Then convert to distances, d\n",
    "   t1 = b/vp\n",
    "   #print('%g  %g' % (d,t1))\n",
    "   #plt.plot(distances,t1,'blue')\n",
    "   #plt.scatter(d,t1)\n",
    "   #plt.show()\n",
    "   plt.plot(t0s, distances, 'o', color='black');"
   ]
  },
  {
   "cell_type": "code",
   "execution_count": 10,
   "metadata": {},
   "outputs": [
    {
     "data": {
      "image/png": "[encoded data removed]",
      "text/plain": [
       "<matplotlib.figure.Figure at 0x1066dc978>"
      ]
     },
     "metadata": {},
     "output_type": "display_data"
    }
   ],
   "source": [
    "# Or we can measure through the sphere\n",
    "for d in distances:\n",
    "   th = d*rpd\n",
    "   hth = 0.5*th\n",
    "# convert radians k\n",
    "   a = 2*R*math.sin(hth)\n",
    "   t2 = a/vp\n",
    "   #print('%g  %g' % (d,t2))\n",
    "   plt.plot(d,t2, 'o', color='black')"
   ]
  },
  {
   "cell_type": "code",
   "execution_count": null,
   "metadata": {},
   "outputs": [],
   "source": []
  }
 ],
 "metadata": {
  "kernelspec": {
   "display_name": "Python 3",
   "language": "python",
   "name": "python3"
  },
  "language_info": {
   "codemirror_mode": {
    "name": "ipython",
    "version": 3
   },
   "file_extension": ".py",
   "mimetype": "text/x-python",
   "name": "python",
   "nbconvert_exporter": "python",
   "pygments_lexer": "ipython3",
   "version": "3.6.2"
  }
 },
 "nbformat": 4,
 "nbformat_minor": 2
}
